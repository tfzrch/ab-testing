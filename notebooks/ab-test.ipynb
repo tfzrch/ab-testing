{
 "cells": [
  {
   "cell_type": "markdown",
   "id": "f271fff7-aefa-4b15-b8bf-067e8219548f",
   "metadata": {},
   "source": [
    "# A/B Testing Randomized Experiment\n",
    "\n",
    "This notebook is a simple demonstration of an A/B testing analysis using data from [Aman Chauhan on Kaggle](https://www.kaggle.com/datasets/whenamancodes/a-b-testing-randomized-experiment).\n",
    "\n",
    "The data represent the number of views and clicks per user depending on whether the user was in the control or treatment group. "
   ]
  },
  {
   "cell_type": "code",
   "execution_count": 1,
   "id": "e0be066b-d63a-47bd-8f74-5abd32f562b6",
   "metadata": {},
   "outputs": [],
   "source": [
    "# Setup environment with libraries and plotting settings\n",
    "import pandas as pd\n",
    "import numpy as np\n",
    "import scipy.stats as stats\n",
    "import matplotlib.pyplot as plt\n",
    "import seaborn as sns\n",
    "from random import seed\n",
    "\n",
    "plt.rcParams[\"figure.figsize\"] = (8, 5)\n",
    "plt.style.use(\"ggplot\")\n",
    "%matplotlib inline"
   ]
  },
  {
   "cell_type": "code",
   "execution_count": 2,
   "id": "6e3552da-a412-4307-9fe8-7e8cee7de5d4",
   "metadata": {},
   "outputs": [],
   "source": [
    "# Import the data\n",
    "file = \"../data/ab_test_results_aggregated_views_clicks_4.csv\"\n",
    "dtypes = {\"views\": int, \"clicks\": int}\n",
    "ab_data = pd.read_csv(file, dtype= dtypes) "
   ]
  },
  {
   "cell_type": "code",
   "execution_count": 3,
   "id": "de6a4fa7-09fb-4bd9-8123-6cc13aa9321d",
   "metadata": {},
   "outputs": [
    {
     "name": "stdout",
     "output_type": "stream",
     "text": [
      "<class 'pandas.core.frame.DataFrame'>\n",
      "RangeIndex: 110000 entries, 0 to 109999\n",
      "Data columns (total 4 columns):\n",
      " #   Column   Non-Null Count   Dtype \n",
      "---  ------   --------------   ----- \n",
      " 0   user_id  110000 non-null  int64 \n",
      " 1   group    110000 non-null  object\n",
      " 2   views    110000 non-null  int32 \n",
      " 3   clicks   110000 non-null  int32 \n",
      "dtypes: int32(2), int64(1), object(1)\n",
      "memory usage: 2.5+ MB\n"
     ]
    }
   ],
   "source": [
    "# No missing values, data are already very clean\n",
    "ab_data.info()"
   ]
  },
  {
   "cell_type": "markdown",
   "id": "3fc977b9-0e96-4d90-b06e-7f7a1e2f1f38",
   "metadata": {},
   "source": [
    "The data to do not include the click-through rate, so we'll add that, rounding to 2DP:"
   ]
  },
  {
   "cell_type": "code",
   "execution_count": 4,
   "id": "7064126e-ab5d-43f2-aabe-e72e0dfb74b7",
   "metadata": {},
   "outputs": [
    {
     "data": {
      "text/html": [
       "<div>\n",
       "<style scoped>\n",
       "    .dataframe tbody tr th:only-of-type {\n",
       "        vertical-align: middle;\n",
       "    }\n",
       "\n",
       "    .dataframe tbody tr th {\n",
       "        vertical-align: top;\n",
       "    }\n",
       "\n",
       "    .dataframe thead th {\n",
       "        text-align: right;\n",
       "    }\n",
       "</style>\n",
       "<table border=\"1\" class=\"dataframe\">\n",
       "  <thead>\n",
       "    <tr style=\"text-align: right;\">\n",
       "      <th></th>\n",
       "      <th>user_id</th>\n",
       "      <th>group</th>\n",
       "      <th>views</th>\n",
       "      <th>clicks</th>\n",
       "      <th>ctr</th>\n",
       "    </tr>\n",
       "  </thead>\n",
       "  <tbody>\n",
       "    <tr>\n",
       "      <th>0</th>\n",
       "      <td>1</td>\n",
       "      <td>control</td>\n",
       "      <td>3</td>\n",
       "      <td>1</td>\n",
       "      <td>33.0</td>\n",
       "    </tr>\n",
       "    <tr>\n",
       "      <th>1</th>\n",
       "      <td>2</td>\n",
       "      <td>control</td>\n",
       "      <td>7</td>\n",
       "      <td>0</td>\n",
       "      <td>0.0</td>\n",
       "    </tr>\n",
       "    <tr>\n",
       "      <th>2</th>\n",
       "      <td>3</td>\n",
       "      <td>control</td>\n",
       "      <td>7</td>\n",
       "      <td>0</td>\n",
       "      <td>0.0</td>\n",
       "    </tr>\n",
       "    <tr>\n",
       "      <th>3</th>\n",
       "      <td>4</td>\n",
       "      <td>control</td>\n",
       "      <td>3</td>\n",
       "      <td>0</td>\n",
       "      <td>0.0</td>\n",
       "    </tr>\n",
       "    <tr>\n",
       "      <th>4</th>\n",
       "      <td>5</td>\n",
       "      <td>control</td>\n",
       "      <td>3</td>\n",
       "      <td>0</td>\n",
       "      <td>0.0</td>\n",
       "    </tr>\n",
       "  </tbody>\n",
       "</table>\n",
       "</div>"
      ],
      "text/plain": [
       "   user_id    group  views  clicks   ctr\n",
       "0        1  control      3       1  33.0\n",
       "1        2  control      7       0   0.0\n",
       "2        3  control      7       0   0.0\n",
       "3        4  control      3       0   0.0\n",
       "4        5  control      3       0   0.0"
      ]
     },
     "execution_count": 4,
     "metadata": {},
     "output_type": "execute_result"
    }
   ],
   "source": [
    "# Add the click through rate\n",
    "ab_data[\"ctr\"] = round(ab_data.clicks / ab_data.views, 2) * 100 # present as a percentage\n",
    "\n",
    "ab_data.head()"
   ]
  },
  {
   "cell_type": "markdown",
   "id": "0b8bcbae-0727-49b3-8674-2f54d535d0b0",
   "metadata": {},
   "source": [
    "## Methods\n",
    "\n",
    "We'll need to perform a hypothesis test to rigourously determine whether we should adopt the treatment applied.\n",
    "\n",
    "In the case where the treatment ($t$) performs worse or the same as the control ($c$), we would fail to reject the null hypothesis ($H_0$), and take no action. Where the treatment performs better, we'd reject $H_0$, and adopt the treatment. We might measure this by comparing means, $\\bar{x}$, for example.\n",
    "\n",
    "$$\n",
    "\\begin{aligned}\n",
    "H_0&: \\bar{x}_{c} >= \\bar{x}_{t}\\\\[2pt]\n",
    "H_1&: \\bar{x}_{c} < \\bar{x}_{t}\n",
    "\\end{aligned}\n",
    "$$\n",
    "\n",
    "This would be done with a *t*-test, where the data meet its conditions:\n",
    "\n",
    "1. Data are normally distributed - Central Limit Theorem may apply allowing a *t*-test even if not normally distributed\n",
    "2. Homogeneity of variance between groups (homoskedasticity)\n",
    "3. Observations are independent\n",
    "4. Sampling is random\n",
    "\n",
    "To determine the appropriate test, we need to investigate the data for these conditions. We cannot perform exploratory data analysis on the whole dataset without compromising the rigour of our hypothesis test, however, so we'll need to split it. \n",
    "\n",
    "We have over 100k rows, so this should be enough to accomodate an explore/test split."
   ]
  },
  {
   "cell_type": "code",
   "execution_count": 5,
   "id": "f6284f79-2f57-46a1-a7a0-6d6889730c76",
   "metadata": {},
   "outputs": [
    {
     "name": "stdout",
     "output_type": "stream",
     "text": [
      "No. of rows: 110000\n"
     ]
    }
   ],
   "source": [
    "print(\"No. of rows:\", str(ab_data.shape[0]))"
   ]
  },
  {
   "cell_type": "markdown",
   "id": "3ce20f66-73c6-466a-9560-8e586b013005",
   "metadata": {},
   "source": [
    "## Explore / Test Split\n",
    "\n",
    "We'll spit our data into two equal portions."
   ]
  },
  {
   "cell_type": "code",
   "execution_count": 6,
   "id": "ce7cb13e-85e3-4a57-b672-fb1f2e308a2b",
   "metadata": {},
   "outputs": [],
   "source": [
    "# Set the random seed\n",
    "seed(54)\n",
    "\n",
    "# Take a 50% sample to calculate variance with\n",
    "ab_eda_size = int(ab_data.shape[0] * 0.5)\n",
    "ab_eda = ab_data.sample(ab_eda_size)\n",
    "\n",
    "# Drop these rows from the original data to get the test sample\n",
    "ab_testing = ab_data.drop(ab_eda.index)"
   ]
  },
  {
   "cell_type": "markdown",
   "id": "0395f5d9-6a3a-46ec-9423-4605c1036284",
   "metadata": {},
   "source": [
    "Plotting this small subset suggests that the overwhelming majority of the data are distributed between 0% and 5% CTR, with a mostly uniform distribution above that."
   ]
  },
  {
   "cell_type": "code",
   "execution_count": 7,
   "id": "53750bf8-c403-44b4-9c63-2b91149b7a7f",
   "metadata": {},
   "outputs": [
    {
     "data": {
      "image/png": "[encoded data removed]",
      "text/plain": [
       "<Figure size 800x300 with 1 Axes>"
      ]
     },
     "metadata": {},
     "output_type": "display_data"
    }
   ],
   "source": [
    "fig, ax = plt.subplots(figsize = (8, 3))\n",
    "sns.histplot(ab_eda, x = \"ctr\", ax = ax, binwidth = 5);"
   ]
  },
  {
   "cell_type": "markdown",
   "id": "7a9396ee-2099-46f3-83ce-a3b6ea57f6e7",
   "metadata": {},
   "source": [
    "Within the range 0% - 5%, the vast majority of values are 0%."
   ]
  },
  {
   "cell_type": "code",
   "execution_count": 8,
   "id": "4c5c83c3-505e-48f2-9df9-cb53921f2d7a",
   "metadata": {},
   "outputs": [
    {
     "data": {
      "text/plain": [
       "ctr\n",
       "0.0    44224\n",
       "1.0        3\n",
       "2.0       51\n",
       "3.0      115\n",
       "4.0      192\n",
       "5.0      270\n",
       "Name: ctr, dtype: int64"
      ]
     },
     "execution_count": 8,
     "metadata": {},
     "output_type": "execute_result"
    }
   ],
   "source": [
    "ab_eda[(ab_eda.ctr >= 0) & (ab_eda.ctr <= 5)].groupby(\"ctr\").ctr.count()"
   ]
  },
  {
   "cell_type": "markdown",
   "id": "0f52a6a8-9dbc-4173-80ff-f39a8ce86098",
   "metadata": {},
   "source": [
    "## Exploratory Analysis\n",
    "\n",
    "Examing basic summary statistics shows the mean and maximum are higher for the treatment group (\"test\")."
   ]
  },
  {
   "cell_type": "code",
   "execution_count": 9,
   "id": "1a93dfe2-169a-417e-91de-208d2b1cc7d3",
   "metadata": {},
   "outputs": [
    {
     "data": {
      "text/html": [
       "<div>\n",
       "<style scoped>\n",
       "    .dataframe tbody tr th:only-of-type {\n",
       "        vertical-align: middle;\n",
       "    }\n",
       "\n",
       "    .dataframe tbody tr th {\n",
       "        vertical-align: top;\n",
       "    }\n",
       "\n",
       "    .dataframe thead th {\n",
       "        text-align: right;\n",
       "    }\n",
       "</style>\n",
       "<table border=\"1\" class=\"dataframe\">\n",
       "  <thead>\n",
       "    <tr style=\"text-align: right;\">\n",
       "      <th></th>\n",
       "      <th>count</th>\n",
       "      <th>mean</th>\n",
       "      <th>std</th>\n",
       "      <th>min</th>\n",
       "      <th>25%</th>\n",
       "      <th>50%</th>\n",
       "      <th>75%</th>\n",
       "      <th>max</th>\n",
       "    </tr>\n",
       "    <tr>\n",
       "      <th>group</th>\n",
       "      <th></th>\n",
       "      <th></th>\n",
       "      <th></th>\n",
       "      <th></th>\n",
       "      <th></th>\n",
       "      <th></th>\n",
       "      <th></th>\n",
       "      <th></th>\n",
       "    </tr>\n",
       "  </thead>\n",
       "  <tbody>\n",
       "    <tr>\n",
       "      <th>control</th>\n",
       "      <td>27583.0</td>\n",
       "      <td>4.370482</td>\n",
       "      <td>12.829741</td>\n",
       "      <td>0.0</td>\n",
       "      <td>0.0</td>\n",
       "      <td>0.0</td>\n",
       "      <td>0.0</td>\n",
       "      <td>100.0</td>\n",
       "    </tr>\n",
       "    <tr>\n",
       "      <th>test</th>\n",
       "      <td>27417.0</td>\n",
       "      <td>5.331145</td>\n",
       "      <td>14.144065</td>\n",
       "      <td>0.0</td>\n",
       "      <td>0.0</td>\n",
       "      <td>0.0</td>\n",
       "      <td>0.0</td>\n",
       "      <td>100.0</td>\n",
       "    </tr>\n",
       "  </tbody>\n",
       "</table>\n",
       "</div>"
      ],
      "text/plain": [
       "           count      mean        std  min  25%  50%  75%    max\n",
       "group                                                           \n",
       "control  27583.0  4.370482  12.829741  0.0  0.0  0.0  0.0  100.0\n",
       "test     27417.0  5.331145  14.144065  0.0  0.0  0.0  0.0  100.0"
      ]
     },
     "execution_count": 9,
     "metadata": {},
     "output_type": "execute_result"
    }
   ],
   "source": [
    "ab_eda.groupby(\"group\")[\"ctr\"].describe()"
   ]
  },
  {
   "cell_type": "markdown",
   "id": "b2bd4518-2eb6-4a06-983a-7be1ac8d2101",
   "metadata": {},
   "source": [
    "Because \"clicks\" and \"views\" are discrete numerical (counts) variables, they are bounded at zero, which typically results in right-skewed distributions. This might follow through to the CTR distribution.\n",
    "\n",
    "Exploring the two groups with a histogram confirms a very strong right skew; the majority of users clicked only once or no times."
   ]
  },
  {
   "cell_type": "code",
   "execution_count": 10,
   "id": "fbb5f938-d07c-4ddc-9859-a3798c055da1",
   "metadata": {},
   "outputs": [
    {
     "data": {
      "image/png": "[encoded data removed]",
      "text/plain": [
       "<Figure size 598.25x500 with 1 Axes>"
      ]
     },
     "metadata": {},
     "output_type": "display_data"
    }
   ],
   "source": [
    "sns.displot(data = ab_eda, x=\"ctr\", hue = \"group\", fill = True, multiple=\"dodge\");"
   ]
  },
  {
   "cell_type": "markdown",
   "id": "ef6075bc-4776-4910-8341-3454a65dbe6d",
   "metadata": {},
   "source": [
    "A KDE plot shows that the two groups are very similar. The treatment group has a slightly lower peak at 0, and its curve is just barely visible above that of the control group around 20%. There may therefore be a marginal effect to detect for the treatment, but we should not expect a significant result or a large effect size."
   ]
  },
  {
   "cell_type": "code",
   "execution_count": 11,
   "id": "dda0944f-77e2-45e5-b317-9f2dd508252f",
   "metadata": {},
   "outputs": [
    {
     "data": {
      "image/png": "[encoded data removed]",
      "text/plain": [
       "<Figure size 800x500 with 1 Axes>"
      ]
     },
     "metadata": {},
     "output_type": "display_data"
    }
   ],
   "source": [
    "sns.kdeplot(data = ab_eda, x=\"ctr\", hue = \"group\", fill = True, multiple=\"layer\");"
   ]
  },
  {
   "cell_type": "markdown",
   "id": "7a204953-1305-496d-ad83-dde0632dde53",
   "metadata": {},
   "source": [
    "A boxplot highlights that clicking through at all marks a user as an outlier:"
   ]
  },
  {
   "cell_type": "code",
   "execution_count": 12,
   "id": "e47f8f68-0abb-4b43-bc8f-1bb9b0869235",
   "metadata": {},
   "outputs": [
    {
     "data": {
      "image/png": "[encoded data removed]",
      "text/plain": [
       "<Figure size 800x500 with 1 Axes>"
      ]
     },
     "metadata": {},
     "output_type": "display_data"
    }
   ],
   "source": [
    "sns.boxplot(data = ab_eda, x=\"ctr\", y = \"group\");"
   ]
  },
  {
   "cell_type": "markdown",
   "id": "34f50c45-a36d-40b4-9648-b382fe9e8708",
   "metadata": {},
   "source": [
    "This raises whether the effect of the treatment is more detectable if the rows with CTR = 0 are ignored for both groups. Indeed this is the case; the treatment group has a higher median and a narrower inter quartile range."
   ]
  },
  {
   "cell_type": "code",
   "execution_count": 13,
   "id": "341e6e37-4480-4efa-8928-eb171f2d7bf7",
   "metadata": {},
   "outputs": [
    {
     "data": {
      "image/png": "[encoded data removed]",
      "text/plain": [
       "<Figure size 800x500 with 1 Axes>"
      ]
     },
     "metadata": {},
     "output_type": "display_data"
    }
   ],
   "source": [
    "sns.boxplot(data = ab_eda[ab_eda.ctr != 0], x=\"ctr\", y = \"group\");"
   ]
  },
  {
   "cell_type": "markdown",
   "id": "9d8be491-0440-4feb-9c8e-47c074d1f2be",
   "metadata": {},
   "source": [
    "## Choosing a test\n",
    "\n",
    "With data this strongly skewed, it seems likely that Central Limit Theorem will not be enough to justify a *t*-test.\n",
    "\n",
    "A Mann-Whitney *U* test will therefore be a better choice, so we'll optimise sample size for that. The *U* test compares distributions using their medians to determine whether they are different. Where $C$ and $T$ are randomly drawn single values from the control and treatment groups, respectively:\n",
    "\n",
    "$$\n",
    "\\begin{aligned}\n",
    "H_0&: P(C > T) = P(T > C)\\\\\n",
    "H_1&: P(C > T) \\ne P(T > C)\\\\\n",
    "\\end{aligned}\n",
    "$$"
   ]
  },
  {
   "cell_type": "markdown",
   "id": "aa168f7d-de65-4896-92d0-1c5be4e0ecbd",
   "metadata": {},
   "source": [
    "## Mann-Whitney *U* Test & Effect Size"
   ]
  },
  {
   "cell_type": "code",
   "execution_count": 14,
   "id": "879b203b-0e35-46e6-b561-7ad9c379ae22",
   "metadata": {},
   "outputs": [],
   "source": [
    "# Set some constants for our test parameters\n",
    "ALPHA = 0.05\n",
    "BETA = 0.8"
   ]
  },
  {
   "cell_type": "code",
   "execution_count": 15,
   "id": "56f3ee36-3395-49d1-9dc6-4dbbd35c26ac",
   "metadata": {},
   "outputs": [],
   "source": [
    "ab_testing_control = ab_testing.query(\"group == 'control'\").ctr\n",
    "ab_testing_treatment = ab_testing.query(\"group == 'test'\").ctr"
   ]
  },
  {
   "cell_type": "code",
   "execution_count": 16,
   "id": "fd2b3490-1d0f-4a2e-b92d-61b9c0f5413d",
   "metadata": {},
   "outputs": [
    {
     "name": "stdout",
     "output_type": "stream",
     "text": [
      "Reject null: True, p = 4.489110701063305e-12, n = 55000\n"
     ]
    }
   ],
   "source": [
    "mwu = stats.mannwhitneyu(ab_testing_control, ab_testing_treatment)\n",
    "print(f\"Reject null: {mwu.pvalue < ALPHA}, p = {mwu.pvalue}, n = {ab_testing.shape[0]}\")"
   ]
  },
  {
   "cell_type": "markdown",
   "id": "18f02848-f28a-4138-8cca-e2291c52f61f",
   "metadata": {},
   "source": [
    "We can calculate the rank biserial effect size ($r_{rb}$) from the test statistic: $r_{rb} = 1- {2U}/{n_1n_2}$"
   ]
  },
  {
   "cell_type": "code",
   "execution_count": 17,
   "id": "96b7a5c7-1edd-4e01-ad7e-6b63b7a7ca75",
   "metadata": {},
   "outputs": [],
   "source": [
    "def r_rb(x, y, u):\n",
    "    n_x = x.shape[0]\n",
    "    n_y = y.shape[0]\n",
    "    return 1-((2*u)/(n_x*n_y))"
   ]
  },
  {
   "cell_type": "code",
   "execution_count": 18,
   "id": "3cb88e1d-b80b-443f-8ec5-2090c3435bf0",
   "metadata": {},
   "outputs": [
    {
     "data": {
      "text/plain": [
       "0.023625898524052835"
      ]
     },
     "execution_count": 18,
     "metadata": {},
     "output_type": "execute_result"
    }
   ],
   "source": [
    "r_rb(ab_testing_control, ab_testing_treatment, mwu.statistic)"
   ]
  },
  {
   "cell_type": "markdown",
   "id": "aa519c2f-01e5-4907-8d2f-346f5ddd314a",
   "metadata": {},
   "source": [
    "A result of 0.03 confirms a weak effect for this treatment."
   ]
  },
  {
   "cell_type": "markdown",
   "id": "b86974ed-8b3c-4f68-9a77-5c5261ad3de0",
   "metadata": {},
   "source": [
    "## Conclusion\n",
    "\n",
    "A statistically significant result from $p < \\alpha$ suggests that the treatment does create a difference in user behaviour that we can expect to occur in the whole user population.\n",
    "\n",
    "However, the weak effect indicates that this is a marginal change and this is supported by the visualisations produced above for exploratory analysis.\n",
    "\n",
    "It is probable that the hypothesis test was over-powered thanks to high sample size; we could improve upon this study with a post-hoc power analysis.\n",
    "\n",
    "Adopting this treatment should not be recommended, especially if other treatments are being considered, or if the cost of implementation is high."
   ]
  }
 ],
 "metadata": {
  "kernelspec": {
   "display_name": "Python 3 (ipykernel)",
   "language": "python",
   "name": "python3"
  },
  "language_info": {
   "codemirror_mode": {
    "name": "ipython",
    "version": 3
   },
   "file_extension": ".py",
   "mimetype": "text/x-python",
   "name": "python",
   "nbconvert_exporter": "python",
   "pygments_lexer": "ipython3",
   "version": "3.9.16"
  }
 },
 "nbformat": 4,
 "nbformat_minor": 5
}
